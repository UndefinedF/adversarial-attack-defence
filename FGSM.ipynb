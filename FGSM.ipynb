{
 "cells": [
  {
   "cell_type": "code",
   "execution_count": 1,
   "metadata": {},
   "outputs": [],
   "source": [
    "import tensorflow as tf\n",
    "import numpy as np\n",
    "import matplotlib.pyplot as plt\n",
    "%matplotlib inline\n",
    "from tensorflow.examples.tutorials.mnist import input_data\n",
    "from tqdm import tqdm"
   ]
  },
  {
   "cell_type": "code",
   "execution_count": 2,
   "metadata": {},
   "outputs": [
    {
     "data": {
      "text/plain": [
       "'1.9.0'"
      ]
     },
     "execution_count": 2,
     "metadata": {},
     "output_type": "execute_result"
    }
   ],
   "source": [
    "tf.__version__"
   ]
  },
  {
   "cell_type": "code",
   "execution_count": 3,
   "metadata": {},
   "outputs": [
    {
     "name": "stdout",
     "output_type": "stream",
     "text": [
      "WARNING:tensorflow:From <ipython-input-3-178ae9752863>:2: read_data_sets (from tensorflow.contrib.learn.python.learn.datasets.mnist) is deprecated and will be removed in a future version.\n",
      "Instructions for updating:\n",
      "Please use alternatives such as official/mnist/dataset.py from tensorflow/models.\n",
      "WARNING:tensorflow:From D:\\Anaconda3\\envs\\py35\\lib\\site-packages\\tensorflow\\contrib\\learn\\python\\learn\\datasets\\mnist.py:260: maybe_download (from tensorflow.contrib.learn.python.learn.datasets.base) is deprecated and will be removed in a future version.\n",
      "Instructions for updating:\n",
      "Please write your own downloading logic.\n",
      "WARNING:tensorflow:From D:\\Anaconda3\\envs\\py35\\lib\\site-packages\\tensorflow\\contrib\\learn\\python\\learn\\datasets\\mnist.py:262: extract_images (from tensorflow.contrib.learn.python.learn.datasets.mnist) is deprecated and will be removed in a future version.\n",
      "Instructions for updating:\n",
      "Please use tf.data to implement this functionality.\n",
      "Extracting MNIST_data/train-images-idx3-ubyte.gz\n",
      "WARNING:tensorflow:From D:\\Anaconda3\\envs\\py35\\lib\\site-packages\\tensorflow\\contrib\\learn\\python\\learn\\datasets\\mnist.py:267: extract_labels (from tensorflow.contrib.learn.python.learn.datasets.mnist) is deprecated and will be removed in a future version.\n",
      "Instructions for updating:\n",
      "Please use tf.data to implement this functionality.\n",
      "Extracting MNIST_data/train-labels-idx1-ubyte.gz\n",
      "WARNING:tensorflow:From D:\\Anaconda3\\envs\\py35\\lib\\site-packages\\tensorflow\\contrib\\learn\\python\\learn\\datasets\\mnist.py:110: dense_to_one_hot (from tensorflow.contrib.learn.python.learn.datasets.mnist) is deprecated and will be removed in a future version.\n",
      "Instructions for updating:\n",
      "Please use tf.one_hot on tensors.\n",
      "Extracting MNIST_data/t10k-images-idx3-ubyte.gz\n",
      "Extracting MNIST_data/t10k-labels-idx1-ubyte.gz\n",
      "WARNING:tensorflow:From D:\\Anaconda3\\envs\\py35\\lib\\site-packages\\tensorflow\\contrib\\learn\\python\\learn\\datasets\\mnist.py:290: DataSet.__init__ (from tensorflow.contrib.learn.python.learn.datasets.mnist) is deprecated and will be removed in a future version.\n",
      "Instructions for updating:\n",
      "Please use alternatives such as official/mnist/dataset.py from tensorflow/models.\n"
     ]
    }
   ],
   "source": [
    "#Read the input data\n",
    "mnist = input_data.read_data_sets(\"MNIST_data/\", one_hot=True)"
   ]
  },
  {
   "cell_type": "code",
   "execution_count": 4,
   "metadata": {},
   "outputs": [
    {
     "name": "stdout",
     "output_type": "stream",
     "text": [
      "Training image shape (55000, 784)\n",
      "Training labels shape (55000, 10)\n",
      "Shape of an image (1, 784)\n"
     ]
    },
    {
     "data": {
      "text/plain": [
       "<matplotlib.image.AxesImage at 0x31a8ac9fd0>"
      ]
     },
     "execution_count": 4,
     "metadata": {},
     "output_type": "execute_result"
    },
    {
     "data": {
      "image/png": "[encoded data removed]",
      "text/plain": [
       "<Figure size 432x288 with 1 Axes>"
      ]
     },
     "metadata": {},
     "output_type": "display_data"
    }
   ],
   "source": [
    "#Explore the data\n",
    "sample_image = mnist.train.next_batch(1)[0]\n",
    "print(\"Training image shape\", mnist.train.images.shape)\n",
    "print(\"Training labels shape\", mnist.train.labels.shape)\n",
    "print(\"Shape of an image\", sample_image.shape)\n",
    "sample_image = sample_image.reshape([28, 28])\n",
    "plt.imshow(sample_image, cmap = \"gray\")"
   ]
  },
  {
   "cell_type": "code",
   "execution_count": 5,
   "metadata": {},
   "outputs": [],
   "source": [
    "# Set para\n",
    "image_size = 28\n",
    "labels_size = 10\n",
    "learning_rate = 0.05\n",
    "steps_number = 1000\n",
    "batch_size = 100"
   ]
  },
  {
   "cell_type": "code",
   "execution_count": 6,
   "metadata": {},
   "outputs": [],
   "source": [
    "# Create placeholders\n",
    "x = tf.placeholder(tf.float32, shape = [None,784])\n",
    "y_ = tf.placeholder(tf.float32, shape = [None, 10])"
   ]
  },
  {
   "cell_type": "code",
   "execution_count": 7,
   "metadata": {},
   "outputs": [],
   "source": [
    "# Functions for weights\n",
    "def weight_variable(shape):\n",
    "    initial = tf.truncated_normal(shape, stddev=0.1)\n",
    "    return tf.Variable(initial)\n",
    "\n",
    "# Function for bias\n",
    "def bias_variable(shape):\n",
    "    initial = tf.constant(0.1, shape=shape)\n",
    "    return tf.Variable(initial)\n",
    "\n",
    "# Functions for convolution with stride = 1 and padding = 0\n",
    "def conv2d(x, W):\n",
    "    return tf.nn.conv2d(x, W, strides=[1,1,1,1], padding='SAME')\n",
    "\n",
    "# Function for max pooling over 2*2 blocks\n",
    "def max_pooling_2x2(x):\n",
    "    return tf.nn.max_pool(x, ksize=[1,2,2,1], strides=[1,2,2,1], padding='SAME')"
   ]
  },
  {
   "cell_type": "code",
   "execution_count": 8,
   "metadata": {},
   "outputs": [],
   "source": [
    "# The architecture is similar to https://www.tensorflow.org/get_started/mnist/pros\n",
    "\n",
    "# Input layer where single input image shape is (1,784)\n",
    "x_image = tf.reshape(x, [-1,28,28,1])\n",
    "\n",
    "# Convolution layer 1 - 32 x 5 x 5 \n",
    "# Conv -> BatchNorm -> Relu -> Max_pool\n",
    "W_conv1 = weight_variable([5, 5, 1, 32])\n",
    "b_conv1 = bias_variable([32])\n",
    "x_conv1 = conv2d(x_image, W_conv1) + b_conv1\n",
    "y1 = tf.nn.relu(tf.layers.batch_normalization(x_conv1))\n",
    "x_pool1 = max_pooling_2x2(y1)\n",
    "\n",
    "# Conv layer 2 - 64 x 5 x 5\n",
    "# Conv -> BatchNorm -> Relu -> Max_pool\n",
    "W_conv2 = weight_variable([5, 5, 32, 64])\n",
    "b_conv2 = bias_variable([64])\n",
    "x_conv2 = conv2d(x_pool1, W_conv2) + b_conv2\n",
    "y2 = tf.nn.relu(tf.layers.batch_normalization(x_conv2))\n",
    "x_pool2 = max_pooling_2x2(y2)\n",
    "\n",
    "# Flatten \n",
    "x_flat = tf.reshape(x_pool2, [-1, 7 * 7 * 64])\n",
    "\n",
    "# Dense fully connected layer\n",
    "W_fc1 = weight_variable([7 * 7 * 64, 1024]) # max pooling reduced image to 7x7\n",
    "b_fc1 = bias_variable([1024])\n",
    "x_fc1 = tf.nn.relu(tf.layers.batch_normalization(tf.matmul(x_flat, W_fc1) + b_fc1))\n",
    "\n",
    "# Dropout\n",
    "keep_prob = tf.placeholder(tf.float32)\n",
    "x_fc1_drop = tf.nn.dropout(x_fc1, keep_prob)\n",
    "\n",
    "# Classification layer\n",
    "W_fc2 = weight_variable([1024, 10])\n",
    "b_fc2 = bias_variable([10])\n",
    "y_conv = tf.matmul(x_fc1_drop, W_fc2) + b_fc2"
   ]
  },
  {
   "cell_type": "code",
   "execution_count": 9,
   "metadata": {},
   "outputs": [
    {
     "name": "stdout",
     "output_type": "stream",
     "text": [
      "WARNING:tensorflow:From <ipython-input-9-eba03fe787b4>:5: softmax_cross_entropy_with_logits (from tensorflow.python.ops.nn_ops) is deprecated and will be removed in a future version.\n",
      "Instructions for updating:\n",
      "\n",
      "Future major versions of TensorFlow will allow gradients to flow\n",
      "into the labels input on backprop by default.\n",
      "\n",
      "See @{tf.nn.softmax_cross_entropy_with_logits_v2}.\n",
      "\n"
     ]
    }
   ],
   "source": [
    "# Probabilities output from model\n",
    "y = tf.nn.softmax(y_conv)\n",
    "\n",
    "# Loss and Adam optimizer\n",
    "cross_entropy = tf.reduce_mean(tf.nn.softmax_cross_entropy_with_logits(labels = y_, logits=y_conv))\n",
    "train_step = tf.train.AdamOptimizer(1e-4).minimize(cross_entropy)"
   ]
  },
  {
   "cell_type": "code",
   "execution_count": 10,
   "metadata": {},
   "outputs": [],
   "source": [
    "# Test accuracy of model\n",
    "correct_prediction = tf.equal(tf.argmax(y_conv,1), tf.argmax(y_,1))\n",
    "accuracy = tf.reduce_mean(tf.cast(correct_prediction, tf.float32))"
   ]
  },
  {
   "cell_type": "code",
   "execution_count": 11,
   "metadata": {},
   "outputs": [],
   "source": [
    "sess = tf.InteractiveSession()\n",
    "sess.run(tf.global_variables_initializer())"
   ]
  },
  {
   "cell_type": "markdown",
   "metadata": {},
   "source": [
    "## 训练模型"
   ]
  },
  {
   "cell_type": "code",
   "execution_count": 12,
   "metadata": {},
   "outputs": [
    {
     "name": "stderr",
     "output_type": "stream",
     "text": [
      "\r",
      "  0%|                                                 | 0/1000 [00:00<?, ?it/s]"
     ]
    },
    {
     "name": "stdout",
     "output_type": "stream",
     "text": [
      "Epoch 0, training accuracy 0.07\n"
     ]
    },
    {
     "name": "stderr",
     "output_type": "stream",
     "text": [
      " 20%|███████▊                               | 200/1000 [00:27<01:09, 11.56it/s]"
     ]
    },
    {
     "name": "stdout",
     "output_type": "stream",
     "text": [
      "Epoch 200, training accuracy 0.9\n"
     ]
    },
    {
     "name": "stderr",
     "output_type": "stream",
     "text": [
      " 40%|███████████████▌                       | 400/1000 [00:45<00:54, 10.94it/s]"
     ]
    },
    {
     "name": "stdout",
     "output_type": "stream",
     "text": [
      "Epoch 400, training accuracy 0.96\n"
     ]
    },
    {
     "name": "stderr",
     "output_type": "stream",
     "text": [
      " 60%|███████████████████████▍               | 600/1000 [01:03<00:36, 10.88it/s]"
     ]
    },
    {
     "name": "stdout",
     "output_type": "stream",
     "text": [
      "Epoch 600, training accuracy 0.93\n"
     ]
    },
    {
     "name": "stderr",
     "output_type": "stream",
     "text": [
      " 80%|███████████████████████████████▏       | 800/1000 [01:22<00:17, 11.35it/s]"
     ]
    },
    {
     "name": "stdout",
     "output_type": "stream",
     "text": [
      "Epoch 800, training accuracy 0.97\n"
     ]
    },
    {
     "name": "stderr",
     "output_type": "stream",
     "text": [
      "100%|██████████████████████████████████████| 1000/1000 [01:39<00:00, 11.46it/s]\n"
     ]
    }
   ],
   "source": [
    "# Train model\n",
    "for i in tqdm(range(1000)):\n",
    "    batch = mnist.train.next_batch(100)\n",
    "    if i%200 == 0:\n",
    "        train_accuracy = accuracy.eval(feed_dict={x:batch[0], y_: batch[1], keep_prob: 1.0})\n",
    "        print(\"Epoch %d, training accuracy %g\"%(i, train_accuracy))\n",
    "\n",
    "    train_step.run(feed_dict={x: batch[0], y_: batch[1], keep_prob: 0.4})"
   ]
  },
  {
   "cell_type": "code",
   "execution_count": 15,
   "metadata": {},
   "outputs": [
    {
     "name": "stdout",
     "output_type": "stream",
     "text": [
      "0.98\n",
      "[0. 1. 0. ... 0. 0. 0.]\n"
     ]
    },
    {
     "data": {
      "text/plain": [
       "'./classifier'"
      ]
     },
     "execution_count": 15,
     "metadata": {},
     "output_type": "execute_result"
    }
   ],
   "source": [
    "print(train_accuracy)\n",
    "print((mnist.test.labels[:,2]))\n",
    "#Save model\n",
    "saver = tf.train.Saver()\n",
    "saver.save(sess, \"./classifier\")"
   ]
  },
  {
   "cell_type": "markdown",
   "metadata": {},
   "source": [
    "# non-targeted attack"
   ]
  },
  {
   "cell_type": "markdown",
   "metadata": {},
   "source": [
    "在测试集上计算准确率"
   ]
  },
  {
   "cell_type": "code",
   "execution_count": 12,
   "metadata": {},
   "outputs": [
    {
     "name": "stdout",
     "output_type": "stream",
     "text": [
      "INFO:tensorflow:Restoring parameters from ./classifier\n"
     ]
    }
   ],
   "source": [
    "# load the data of the trained model\n",
    "saver = tf.train.Saver()\n",
    "saver.restore(sess, tf.train.latest_checkpoint('./'))"
   ]
  },
  {
   "cell_type": "code",
   "execution_count": 12,
   "metadata": {},
   "outputs": [
    {
     "name": "stdout",
     "output_type": "stream",
     "text": [
      "Test image shape (10000, 784)\n"
     ]
    }
   ],
   "source": [
    "print(\"Test image shape\", mnist.test.images.shape)"
   ]
  },
  {
   "cell_type": "code",
   "execution_count": 18,
   "metadata": {},
   "outputs": [
    {
     "name": "stdout",
     "output_type": "stream",
     "text": [
      "test accuracy 0.9646\n"
     ]
    }
   ],
   "source": [
    "# 内存太小，直接放整个测试集会爆炸，所以只能分batch来\n",
    "test_accuracy = 0\n",
    "for i in range(100):\n",
    "    batch = mnist.test.next_batch(100)\n",
    "    test_accuracy += accuracy.eval(feed_dict={x:batch[0], y_: batch[1], keep_prob: 1.0})\n",
    "print(\"test accuracy %g\"%(test_accuracy / 100))"
   ]
  },
  {
   "cell_type": "code",
   "execution_count": 14,
   "metadata": {},
   "outputs": [],
   "source": [
    "img_gradient = tf.gradients(cross_entropy, x)[0]"
   ]
  },
  {
   "cell_type": "code",
   "execution_count": 34,
   "metadata": {},
   "outputs": [
    {
     "name": "stdout",
     "output_type": "stream",
     "text": [
      "total test accuracy 0.8929\n"
     ]
    }
   ],
   "source": [
    "test_accuracy = 0\n",
    "for i in range(100):\n",
    "    batch = mnist.test.next_batch(100)\n",
    "    batch = list(batch)\n",
    "    gradient = img_gradient.eval({x: batch[0], y_: batch[1], keep_prob: 1.0})\n",
    "    batch[0] = batch[0] + 0.02 * np.sign(gradient)\n",
    "    test_accuracy += accuracy.eval(feed_dict={x:batch[0], y_: batch[1], keep_prob: 1.0})\n",
    "#     print(\"Batch %d: test accuracy %g\" % (i + 1, test_accuracy / (i + 1)))\n",
    "print(\"total test accuracy %g\"%(test_accuracy / 100))"
   ]
  },
  {
   "cell_type": "markdown",
   "metadata": {},
   "source": [
    "## 抽取样本说明问题"
   ]
  },
  {
   "cell_type": "code",
   "execution_count": 19,
   "metadata": {},
   "outputs": [
    {
     "name": "stdout",
     "output_type": "stream",
     "text": [
      "[   0   19   25 ... 9991 9993 9995]\n",
      "[5424  321 6031 9143  260 1273 9405 7269 1480 1855]\n"
     ]
    }
   ],
   "source": [
    "# Fetch 10 2's images\n",
    "index_mask = np.where(mnist.test.labels[:, 2])[0]\n",
    "print(index_mask)\n",
    "subset_mask = np.random.choice(index_mask, 10)\n",
    "print(subset_mask)"
   ]
  },
  {
   "cell_type": "code",
   "execution_count": 20,
   "metadata": {},
   "outputs": [
    {
     "data": {
      "text/plain": [
       "array([[0., 0., 1., 0., 0., 0., 0., 0., 0., 0.],\n",
       "       [0., 0., 1., 0., 0., 0., 0., 0., 0., 0.],\n",
       "       [0., 0., 1., 0., 0., 0., 0., 0., 0., 0.],\n",
       "       [0., 0., 1., 0., 0., 0., 0., 0., 0., 0.],\n",
       "       [0., 0., 1., 0., 0., 0., 0., 0., 0., 0.],\n",
       "       [0., 0., 1., 0., 0., 0., 0., 0., 0., 0.],\n",
       "       [0., 0., 1., 0., 0., 0., 0., 0., 0., 0.],\n",
       "       [0., 0., 1., 0., 0., 0., 0., 0., 0., 0.],\n",
       "       [0., 0., 1., 0., 0., 0., 0., 0., 0., 0.],\n",
       "       [0., 0., 1., 0., 0., 0., 0., 0., 0., 0.]])"
      ]
     },
     "execution_count": 20,
     "metadata": {},
     "output_type": "execute_result"
    }
   ],
   "source": [
    "# Display the labels of the selected images\n",
    "original_images = mnist.test.images[subset_mask]\n",
    "original_labels = mnist.test.labels[subset_mask]\n",
    "original_labels"
   ]
  },
  {
   "cell_type": "code",
   "execution_count": 21,
   "metadata": {},
   "outputs": [
    {
     "name": "stdout",
     "output_type": "stream",
     "text": [
      "predictions [2 2 2 2 2 2 2 2 2 2]\n",
      "probabilities [0.95447206 0.99959177 0.99960953 0.9997993  0.9995198  0.98386407\n",
      " 0.9984635  0.9992779  0.9800933  0.9996377 ]\n"
     ]
    }
   ],
   "source": [
    "# Predict the model on the selected 10 2's samples\n",
    "prediction = tf.argmax(y,1)\n",
    "prediction_val = prediction.eval(feed_dict={x: original_images, keep_prob: 1.0}, session=sess)\n",
    "print(\"predictions\", prediction_val)\n",
    "probabilities = tf.reduce_max(y,1)\n",
    "probabilities_val = probabilities.eval(feed_dict={x: original_images, keep_prob: 1.0}, session=sess)\n",
    "print (\"probabilities\", probabilities_val)"
   ]
  },
  {
   "cell_type": "code",
   "execution_count": 22,
   "metadata": {},
   "outputs": [
    {
     "name": "stdout",
     "output_type": "stream",
     "text": [
      "Correct label 2\n",
      "Predicted label: 2\n",
      "Confidence: 0.95447206\n"
     ]
    },
    {
     "data": {
      "image/png": "[encoded data removed]",
      "text/plain": [
       "<Figure size 144x144 with 1 Axes>"
      ]
     },
     "metadata": {},
     "output_type": "display_data"
    },
    {
     "name": "stdout",
     "output_type": "stream",
     "text": [
      "Correct label 2\n",
      "Predicted label: 2\n",
      "Confidence: 0.99959177\n"
     ]
    },
    {
     "data": {
      "image/png": "[encoded data removed]",
      "text/plain": [
       "<Figure size 144x144 with 1 Axes>"
      ]
     },
     "metadata": {},
     "output_type": "display_data"
    },
    {
     "name": "stdout",
     "output_type": "stream",
     "text": [
      "Correct label 2\n",
      "Predicted label: 2\n",
      "Confidence: 0.99960953\n"
     ]
    },
    {
     "data": {
      "image/png": "[encoded data removed]",
      "text/plain": [
       "<Figure size 144x144 with 1 Axes>"
      ]
     },
     "metadata": {},
     "output_type": "display_data"
    },
    {
     "name": "stdout",
     "output_type": "stream",
     "text": [
      "Correct label 2\n",
      "Predicted label: 2\n",
      "Confidence: 0.9997993\n"
     ]
    },
    {
     "data": {
      "image/png": "[encoded data removed]",
      "text/plain": [
       "<Figure size 144x144 with 1 Axes>"
      ]
     },
     "metadata": {},
     "output_type": "display_data"
    },
    {
     "name": "stdout",
     "output_type": "stream",
     "text": [
      "Correct label 2\n",
      "Predicted label: 2\n",
      "Confidence: 0.9995198\n"
     ]
    },
    {
     "data": {
      "image/png": "[encoded data removed]",
      "text/plain": [
       "<Figure size 144x144 with 1 Axes>"
      ]
     },
     "metadata": {},
     "output_type": "display_data"
    },
    {
     "name": "stdout",
     "output_type": "stream",
     "text": [
      "Correct label 2\n",
      "Predicted label: 2\n",
      "Confidence: 0.98386407\n"
     ]
    },
    {
     "data": {
      "image/png": "[encoded data removed]",
      "text/plain": [
       "<Figure size 144x144 with 1 Axes>"
      ]
     },
     "metadata": {},
     "output_type": "display_data"
    },
    {
     "name": "stdout",
     "output_type": "stream",
     "text": [
      "Correct label 2\n",
      "Predicted label: 2\n",
      "Confidence: 0.9984635\n"
     ]
    },
    {
     "data": {
      "image/png": "[encoded data removed]",
      "text/plain": [
       "<Figure size 144x144 with 1 Axes>"
      ]
     },
     "metadata": {},
     "output_type": "display_data"
    },
    {
     "name": "stdout",
     "output_type": "stream",
     "text": [
      "Correct label 2\n",
      "Predicted label: 2\n",
      "Confidence: 0.9992779\n"
     ]
    },
    {
     "data": {
      "image/png": "[encoded data removed]",
      "text/plain": [
       "<Figure size 144x144 with 1 Axes>"
      ]
     },
     "metadata": {},
     "output_type": "display_data"
    },
    {
     "name": "stdout",
     "output_type": "stream",
     "text": [
      "Correct label 2\n",
      "Predicted label: 2\n",
      "Confidence: 0.9800933\n"
     ]
    },
    {
     "data": {
      "image/png": "[encoded data removed]",
      "text/plain": [
       "<Figure size 144x144 with 1 Axes>"
      ]
     },
     "metadata": {},
     "output_type": "display_data"
    },
    {
     "name": "stdout",
     "output_type": "stream",
     "text": [
      "Correct label 2\n",
      "Predicted label: 2\n",
      "Confidence: 0.9996377\n"
     ]
    },
    {
     "data": {
      "image/png": "[encoded data removed]",
      "text/plain": [
       "<Figure size 144x144 with 1 Axes>"
      ]
     },
     "metadata": {},
     "output_type": "display_data"
    }
   ],
   "source": [
    "# Show the original images, correct, predicted label and confidence\n",
    "for i in range(0, 10):\n",
    "    print('Correct label', np.argmax(original_labels[i]))\n",
    "    print('Predicted label:', prediction_val[i])\n",
    "    print('Confidence:', np.max(probabilities_val[i]))\n",
    "    plt.figure(figsize=(2, 2))\n",
    "    plt.axis('off')\n",
    "    plt.imshow(original_images[i].reshape([28, 28]),cmap = \"gray\")\n",
    "    plt.show()"
   ]
  },
  {
   "cell_type": "code",
   "execution_count": 23,
   "metadata": {},
   "outputs": [],
   "source": [
    "img_gradient = tf.gradients(cross_entropy, x)[0]"
   ]
  },
  {
   "cell_type": "code",
   "execution_count": 31,
   "metadata": {},
   "outputs": [],
   "source": [
    "steps = 10\n",
    "step_size = 0.02"
   ]
  },
  {
   "cell_type": "code",
   "execution_count": 32,
   "metadata": {},
   "outputs": [
    {
     "name": "stdout",
     "output_type": "stream",
     "text": [
      "predictions [2 2 2 2 2 2 2 2 2 2]\n",
      "predictions [7 2 2 2 2 7 2 2 2 2]\n",
      "predictions [7 2 2 2 2 7 3 2 8 2]\n",
      "predictions [7 1 3 2 2 7 3 0 8 3]\n",
      "predictions [7 1 3 3 3 7 3 0 8 3]\n",
      "predictions [7 1 3 3 3 7 3 0 8 3]\n",
      "predictions [7 1 3 3 3 7 3 0 8 3]\n",
      "predictions [7 1 3 3 3 7 3 0 8 3]\n",
      "predictions [7 1 3 3 3 7 3 0 8 3]\n",
      "predictions [7 1 3 3 3 7 3 0 8 3]\n"
     ]
    }
   ],
   "source": [
    "adversarial_img = original_images.copy()\n",
    "adv_img_hist = list() # store adv_img\n",
    "for i in range(0, steps):\n",
    "    gradient = img_gradient.eval({x: adversarial_img, y_: original_labels, keep_prob: 1.0})\n",
    "    # Update using sign of gradient\n",
    "    adversarial_img = adversarial_img + step_size * np.sign(gradient)\n",
    "    adv_img_hist.append(adversarial_img)\n",
    "    prediction = tf.argmax(y,1)\n",
    "    prediction_val = prediction.eval(feed_dict={x: adversarial_img, keep_prob: 1.0}, session=sess)\n",
    "    print(\"predictions\", prediction_val)\n",
    "#     probabilities = tf.reduce_max(y, 1)\n",
    "#     probabilities_val = probabilities.eval(feed_dict={x: adversarial_img, keep_prob: 1.0}, session=sess)\n",
    "#     print('Confidence 2:', probabilities_val[:, 2])\n",
    "#     print('Confidence 6:', probabilities_val[:, 6])"
   ]
  },
  {
   "cell_type": "code",
   "execution_count": 33,
   "metadata": {},
   "outputs": [
    {
     "data": {
      "image/png": "[encoded data removed]",
      "text/plain": [
       "<Figure size 1250x3750 with 30 Axes>"
      ]
     },
     "metadata": {},
     "output_type": "display_data"
    }
   ],
   "source": [
    "# Generate the image of 10 samples with original_image, delta and adversarial image\n",
    "f, axarr = plt.subplots(10, 3, figsize=(5,15))\n",
    "import matplotlib as mpl\n",
    "mpl.rcParams['figure.dpi']= 250\n",
    "for i in range(10):\n",
    "    axarr[i,0].set_axis_off()\n",
    "    axarr[i,1].set_axis_off()\n",
    "    axarr[i,2].set_axis_off()\n",
    "    axarr[i,0].imshow(original_images[i].reshape([28, 28]), cmap = \"gray\")\n",
    "    axarr[i,1].imshow((adv_img_hist[0][i] - original_images[i]).reshape([28, 28]), cmap = \"gray\")\n",
    "    axarr[i,2].imshow((adv_img_hist[0][i]).reshape([28, 28]), cmap=\"gray\")\n",
    "    \n",
    "plt.tight_layout()\n",
    "plt.show()\n",
    "f.savefig(\"result.png\")"
   ]
  },
  {
   "cell_type": "code",
   "execution_count": null,
   "metadata": {},
   "outputs": [],
   "source": []
  },
  {
   "cell_type": "code",
   "execution_count": null,
   "metadata": {},
   "outputs": [],
   "source": []
  },
  {
   "cell_type": "markdown",
   "metadata": {},
   "source": [
    "# targeted attack"
   ]
  },
  {
   "cell_type": "code",
   "execution_count": 44,
   "metadata": {},
   "outputs": [],
   "source": [
    "# Set the target label as 6\n",
    "target_number = 6\n",
    "target_labels = np.zeros(original_labels.shape)\n",
    "target_labels[:, target_number] = 1"
   ]
  },
  {
   "cell_type": "code",
   "execution_count": 45,
   "metadata": {},
   "outputs": [
    {
     "data": {
      "text/plain": [
       "array([[0., 0., 0., 0., 0., 0., 1., 0., 0., 0.],\n",
       "       [0., 0., 0., 0., 0., 0., 1., 0., 0., 0.],\n",
       "       [0., 0., 0., 0., 0., 0., 1., 0., 0., 0.],\n",
       "       [0., 0., 0., 0., 0., 0., 1., 0., 0., 0.],\n",
       "       [0., 0., 0., 0., 0., 0., 1., 0., 0., 0.],\n",
       "       [0., 0., 0., 0., 0., 0., 1., 0., 0., 0.],\n",
       "       [0., 0., 0., 0., 0., 0., 1., 0., 0., 0.],\n",
       "       [0., 0., 0., 0., 0., 0., 1., 0., 0., 0.],\n",
       "       [0., 0., 0., 0., 0., 0., 1., 0., 0., 0.],\n",
       "       [0., 0., 0., 0., 0., 0., 1., 0., 0., 0.]])"
      ]
     },
     "execution_count": 45,
     "metadata": {},
     "output_type": "execute_result"
    }
   ],
   "source": [
    "target_labels"
   ]
  },
  {
   "cell_type": "code",
   "execution_count": 46,
   "metadata": {},
   "outputs": [],
   "source": [
    "img_gradient = tf.gradients(cross_entropy, x)[0]"
   ]
  },
  {
   "cell_type": "code",
   "execution_count": 47,
   "metadata": {},
   "outputs": [],
   "source": [
    "step_size = 0.5 #The amount to wiggle towards the gradient of target class.\n",
    "steps = 10"
   ]
  },
  {
   "cell_type": "markdown",
   "metadata": {},
   "source": [
    "### 直接用梯度本身去更新"
   ]
  },
  {
   "cell_type": "code",
   "execution_count": 48,
   "metadata": {},
   "outputs": [
    {
     "name": "stdout",
     "output_type": "stream",
     "text": [
      "predictions [2 2 2 2 2 2 2 2 2 2]\n",
      "Confidence 2: [0.9898857  0.59124327 0.99588    0.8596351  0.7022948  0.9999647\n",
      " 0.98201466 0.8722939  0.89243245 0.9757975 ]\n",
      "Confidence 6: [1.00002886e-04 4.91840008e-04 3.96790594e-04 1.17182103e-03\n",
      " 2.68888136e-04 1.54251011e-05 4.67551799e-05 2.02040351e-03\n",
      " 3.13422363e-03 1.48710897e-04]\n",
      "predictions [2 2 2 2 2 2 2 2 2 2]\n",
      "Confidence 2: [0.96685344 0.5247128  0.98102564 0.75416404 0.606904   0.9996891\n",
      " 0.9295734  0.69516915 0.7474966  0.9221834 ]\n",
      "Confidence 6: [0.001525   0.00360555 0.00486421 0.00804628 0.00189158 0.00020736\n",
      " 0.00045094 0.02240076 0.02107276 0.00111894]\n",
      "predictions [2 2 2 2 2 2 2 2 2 2]\n",
      "Confidence 2: [0.91261417 0.48970097 0.9049194  0.62704223 0.5577492  0.99757546\n",
      " 0.81385946 0.49948752 0.62782425 0.85412353]\n",
      "Confidence 6: [0.01443359 0.0213898  0.0469939  0.03569652 0.00932434 0.00199781\n",
      " 0.00305587 0.12537855 0.07524867 0.00621636]\n",
      "predictions [2 2 2 2 2 2 2 6 2 2]\n",
      "Confidence 2: [0.7922623  0.4506029  0.62725407 0.49644542 0.46805844 0.9863041\n",
      " 0.705702   0.33848488 0.49994868 0.7449854 ]\n",
      "Confidence 6: [0.07681114 0.09273145 0.27204755 0.1235733  0.03686782 0.01232125\n",
      " 0.01304388 0.35529196 0.18453696 0.02699928]\n",
      "predictions [2 2 6 2 2 2 2 6 2 2]\n",
      "Confidence 2: [0.5789174  0.37990278 0.3085498  0.36733955 0.38359755 0.9361814\n",
      " 0.5733556  0.21402368 0.38557017 0.6220998 ]\n",
      "Confidence 6: [0.25847846 0.25348032 0.59216976 0.29608268 0.10206155 0.06015151\n",
      " 0.04101878 0.5727909  0.3350684  0.09768108]\n",
      "predictions [6 6 6 6 2 2 2 6 6 2]\n",
      "Confidence 2: [0.37827292 0.25609365 0.18649621 0.2484111  0.3126167  0.7766517\n",
      " 0.4845189  0.14818573 0.28779107 0.48404726]\n",
      "Confidence 6: [0.48472315 0.45775506 0.7343623  0.488388   0.21698506 0.21575508\n",
      " 0.09953114 0.6967708  0.4827469  0.26318914]\n",
      "predictions [6 6 6 6 6 2 2 6 6 6]\n",
      "Confidence 2: [0.24069346 0.19038302 0.13292424 0.17710808 0.23422055 0.5246466\n",
      " 0.39569548 0.11320652 0.22292894 0.31820312]\n",
      "Confidence 6: [0.6622689  0.6130475  0.80233485 0.62207985 0.36886483 0.46531516\n",
      " 0.19948189 0.7649645  0.5910124  0.46717831]\n",
      "predictions [6 6 6 6 6 6 6 6 6 6]\n",
      "Confidence 2: [0.1673949  0.14001556 0.10400368 0.13246976 0.17555967 0.33879134\n",
      " 0.3103321  0.09135503 0.1763286  0.22467197]\n",
      "Confidence 6: [0.7557475  0.710635   0.84043235 0.70724034 0.51191485 0.6513363\n",
      " 0.33330506 0.80827916 0.6685261  0.61020476]\n",
      "predictions [6 6 6 6 6 6 6 6 6 6]\n",
      "Confidence 2: [0.12834229 0.10942802 0.08551457 0.10626888 0.13164589 0.23909943\n",
      " 0.23389581 0.07622033 0.14408371 0.16533974]\n",
      "Confidence 6: [0.809299   0.7737964  0.8655757  0.7614363  0.61831313 0.7516104\n",
      " 0.46639913 0.83793193 0.7241757  0.70236176]\n",
      "predictions [6 6 6 6 6 6 6 6 6 6]\n",
      "Confidence 2: [0.104018   0.08855399 0.07298897 0.08776201 0.10255033 0.18570793\n",
      " 0.18097204 0.0657354  0.12146742 0.13200316]\n",
      "Confidence 6: [0.8427936  0.8168591  0.88308394 0.7989654  0.691328   0.8056052\n",
      " 0.58091766 0.8588773  0.76690483 0.75947237]\n"
     ]
    }
   ],
   "source": [
    "# Targeted attack using Fast gradient sign method inspired from http://blog.ycombinator.com/how-adversarial-attacks-work/\n",
    "# and http://karpathy.github.io/2015/03/30/breaking-convnets/\n",
    "adversarial_img = original_images.copy()\n",
    "for i in range(0, steps):\n",
    "    gradient = img_gradient.eval({x: adversarial_img, y_: target_labels, keep_prob: 1.0})\n",
    "    #Update using value of gradient\n",
    "    adversarial_img = adversarial_img - step_size * gradient\n",
    "    prediction = tf.argmax(y,1)\n",
    "    prediction_val = prediction.eval(feed_dict={x: adversarial_img, keep_prob: 1.0}, session=sess)\n",
    "    print(\"predictions\", prediction_val)\n",
    "    probabilities = y\n",
    "    probabilities_val = probabilities.eval(feed_dict={x: adversarial_img, keep_prob: 1.0}, session=sess)\n",
    "    print('Confidence 2:', probabilities_val[:, 2])\n",
    "    print('Confidence 6:', probabilities_val[:, 6])"
   ]
  },
  {
   "cell_type": "markdown",
   "metadata": {},
   "source": [
    "### 沿梯度方向更新，并减小步长"
   ]
  },
  {
   "cell_type": "code",
   "execution_count": 49,
   "metadata": {},
   "outputs": [],
   "source": [
    "step_size = 0.02\n",
    "steps = 10"
   ]
  },
  {
   "cell_type": "code",
   "execution_count": 50,
   "metadata": {},
   "outputs": [
    {
     "name": "stdout",
     "output_type": "stream",
     "text": [
      "predictions [2 2 2 2 2 2 2 2 2 2]\n",
      "Confidence 2: [0.99008805 0.5434655  0.9970156  0.85077506 0.69945735 0.99996996\n",
      " 0.98170704 0.89877504 0.8928138  0.9748659 ]\n",
      "Confidence 6: [7.5326228e-05 5.9016643e-04 2.5767359e-04 1.2334306e-03 2.6988966e-04\n",
      " 1.4200710e-05 5.4045526e-05 1.6842985e-03 3.5233744e-03 1.6990161e-04]\n",
      "predictions [2 2 2 2 2 2 2 2 2 2]\n",
      "Confidence 2: [0.96841025 0.5127301  0.9846414  0.72536343 0.5844853  0.99973744\n",
      " 0.9337753  0.73780525 0.71472144 0.91430354]\n",
      "Confidence 6: [0.00108819 0.0054602  0.00314735 0.00938127 0.00225097 0.00018565\n",
      " 0.00064458 0.02082272 0.02875048 0.00158157]\n",
      "predictions [2 2 2 2 2 2 2 2 2 2]\n",
      "Confidence 2: [0.90826213 0.47783706 0.92650634 0.5601992  0.5321516  0.9976987\n",
      " 0.8057617  0.54307455 0.5339756  0.81927735]\n",
      "Confidence 6: [0.01138593 0.04121407 0.03310587 0.06156611 0.01581372 0.00197644\n",
      " 0.00535768 0.14881939 0.14854696 0.01212406]\n",
      "predictions [2 2 2 2 2 2 2 6 6 2]\n",
      "Confidence 2: [0.77734655 0.4006138  0.70082635 0.35030842 0.44338536 0.9837261\n",
      " 0.6220459  0.24481319 0.3397733  0.633496  ]\n",
      "Confidence 6: [0.07330445 0.20124705 0.21121451 0.24978046 0.08078424 0.0149828\n",
      " 0.02811709 0.5351404  0.41742164 0.07853828]\n",
      "predictions [2 6 6 6 2 2 2 6 6 2]\n",
      "Confidence 2: [0.5141043  0.18477432 0.26809323 0.15441127 0.30583328 0.89330983\n",
      " 0.4467213  0.06413957 0.12572642 0.4116044 ]\n",
      "Confidence 6: [0.33957493 0.5855856  0.64812315 0.63445044 0.30499837 0.1025647\n",
      " 0.118669   0.8698125  0.7552152  0.32010874]\n",
      "predictions [6 6 6 6 6 2 6 6 6 6]\n",
      "Confidence 2: [0.19620657 0.06510337 0.0499976  0.04167984 0.11242389 0.5751478\n",
      " 0.30541638 0.01406001 0.04698598 0.1621106 ]\n",
      "Confidence 6: [0.71476185 0.8715338  0.91236085 0.88343126 0.6714433  0.41570875\n",
      " 0.3714202  0.96834093 0.90922284 0.69018567]\n",
      "predictions [6 6 6 6 6 6 6 6 6 6]\n",
      "Confidence 2: [0.04108079 0.01361281 0.01117435 0.00989619 0.03526083 0.18773238\n",
      " 0.11815391 0.00271721 0.01471382 0.04231498]\n",
      "Confidence 6: [0.93568355 0.97007227 0.9790233  0.9694229  0.8810422  0.804217\n",
      " 0.70274025 0.9934042  0.96557814 0.9080354 ]\n",
      "predictions [6 6 6 6 6 6 6 6 6 6]\n",
      "Confidence 2: [0.00803435 0.00378834 0.00206026 0.00220169 0.01121192 0.03668963\n",
      " 0.03927651 0.00059027 0.00503181 0.01267727]\n",
      "Confidence 6: [0.98655546 0.9917149  0.9950708  0.99193513 0.9601976  0.95948285\n",
      " 0.8832061  0.99840754 0.9884489  0.9742721 ]\n",
      "predictions [6 6 6 6 6 6 6 6 6 6]\n",
      "Confidence 2: [0.00150978 0.00113019 0.00048424 0.00065549 0.00355838 0.00766807\n",
      " 0.0143213  0.00015818 0.00196849 0.00286781]\n",
      "Confidence 6: [0.9972078  0.99758303 0.99873966 0.9976591  0.98623323 0.9907073\n",
      " 0.96173185 0.99954164 0.9954117  0.9929919 ]\n",
      "predictions [6 6 6 6 6 6 6 6 6 6]\n",
      "Confidence 2: [2.9478665e-04 3.3280329e-04 1.2223786e-04 1.8597423e-04 1.0616794e-03\n",
      " 1.6192573e-03 4.9834638e-03 3.6334401e-05 6.5660087e-04 1.0483186e-03]\n",
      "Confidence 6: [0.9993693  0.99931204 0.99968696 0.99935025 0.9959214  0.9977787\n",
      " 0.98464245 0.9998821  0.9982185  0.99783546]\n"
     ]
    }
   ],
   "source": [
    "adversarial_img = original_images.copy()\n",
    "adv_img_hist = list()\n",
    "prob2_hist = list()\n",
    "prob6_hist = list()\n",
    "for i in range(0, steps):\n",
    "    gradient = img_gradient.eval({x: adversarial_img, y_: target_labels, keep_prob: 1.0})\n",
    "    # Update using sign of gradient and decreasing the step size\n",
    "    adversarial_img = adversarial_img - step_size * np.sign(gradient)\n",
    "    adv_img_hist.append(adversarial_img)\n",
    "    prediction = tf.argmax(y,1)\n",
    "    prediction_val = prediction.eval(feed_dict={x: adversarial_img, keep_prob: 1.0}, session=sess)\n",
    "    print(\"predictions\", prediction_val)\n",
    "    probabilities = y\n",
    "    probabilities_val = probabilities.eval(feed_dict = {x: adversarial_img, keep_prob: 1.0}, session=sess)\n",
    "    print('Confidence 2:', probabilities_val[:, 2])\n",
    "    print('Confidence 6:', probabilities_val[:, 6])\n",
    "prob2_hist.append(probabilities_val[:,2])\n",
    "prob6_hist.append(probabilities_val[:,6])"
   ]
  },
  {
   "cell_type": "code",
   "execution_count": 51,
   "metadata": {},
   "outputs": [
    {
     "name": "stdout",
     "output_type": "stream",
     "text": [
      "Probability of 2 in selected samples  [array([2.9478665e-04, 3.3280329e-04, 1.2223786e-04, 1.8597423e-04,\n",
      "       1.0616794e-03, 1.6192573e-03, 4.9834638e-03, 3.6334401e-05,\n",
      "       6.5660087e-04, 1.0483186e-03], dtype=float32)]\n",
      "Probability of 6 in selected samples  [array([0.9993693 , 0.99931204, 0.99968696, 0.99935025, 0.9959214 ,\n",
      "       0.9977787 , 0.98464245, 0.9998821 , 0.9982185 , 0.99783546],\n",
      "      dtype=float32)]\n"
     ]
    }
   ],
   "source": [
    "print(\"Probability of 2 in selected samples \",prob2_hist)\n",
    "print(\"Probability of 6 in selected samples \",prob6_hist)"
   ]
  },
  {
   "cell_type": "code",
   "execution_count": 52,
   "metadata": {},
   "outputs": [
    {
     "data": {
      "image/png": "[encoded data removed]",
      "text/plain": [
       "<Figure size 1250x3750 with 30 Axes>"
      ]
     },
     "metadata": {},
     "output_type": "display_data"
    }
   ],
   "source": [
    "# Generate the image of 10 samples with original_image, delta and adversarial image\n",
    "f, axarr = plt.subplots(10, 3, figsize=(5,15))\n",
    "import matplotlib as mpl\n",
    "mpl.rcParams['figure.dpi']= 250\n",
    "for i in range(10):\n",
    "    axarr[i,0].set_axis_off()\n",
    "    axarr[i,1].set_axis_off()\n",
    "    axarr[i,2].set_axis_off()\n",
    "    axarr[i,0].imshow(original_images[i].reshape([28, 28]), cmap = \"gray\")\n",
    "    axarr[i,1].imshow((adv_img_hist[0][i] - original_images[i]).reshape([28, 28]), cmap = \"gray\")\n",
    "    axarr[i,2].imshow((adv_img_hist[0][i]).reshape([28, 28]), cmap=\"gray\")\n",
    "    \n",
    "plt.tight_layout()\n",
    "plt.show()\n",
    "f.savefig(\"result.png\")"
   ]
  },
  {
   "cell_type": "code",
   "execution_count": null,
   "metadata": {},
   "outputs": [],
   "source": []
  },
  {
   "cell_type": "code",
   "execution_count": null,
   "metadata": {},
   "outputs": [],
   "source": []
  },
  {
   "cell_type": "markdown",
   "metadata": {},
   "source": [
    "# 生成并保存对抗样本"
   ]
  },
  {
   "cell_type": "code",
   "execution_count": 53,
   "metadata": {},
   "outputs": [],
   "source": [
    "import numpy as np"
   ]
  },
  {
   "cell_type": "code",
   "execution_count": 59,
   "metadata": {},
   "outputs": [
    {
     "name": "stderr",
     "output_type": "stream",
     "text": [
      "100%|████████████████████████████████████████| 100/100 [01:04<00:00,  1.57it/s]\n"
     ]
    }
   ],
   "source": [
    "# 生成测试集上的对抗样本\n",
    "test_img = []\n",
    "test_lab = []\n",
    "test_adv = []\n",
    "for i in tqdm(range(100)):\n",
    "    batch_x, batch_y = mnist.test.next_batch(100)\n",
    "    gradient = img_gradient.eval({x: batch_x, y_: batch_y, keep_prob: 1.0})\n",
    "    batch_x_noise = batch_x + 0.02 * np.sign(gradient)\n",
    "    test_img.append(batch_x)\n",
    "    test_lab.append(batch_y)\n",
    "    test_adv.append(batch_x_noise)\n",
    "test_img = np.array(test_img)\n",
    "test_lab = np.array(test_lab)\n",
    "test_adv = np.array(test_adv)\n",
    "np.save('test_img.npy', test_img)\n",
    "np.save('test_lab.npy', test_lab)\n",
    "np.save('test_adv.npy', test_adv)"
   ]
  },
  {
   "cell_type": "code",
   "execution_count": 60,
   "metadata": {},
   "outputs": [
    {
     "name": "stderr",
     "output_type": "stream",
     "text": [
      "100%|████████████████████████████████████████| 550/550 [05:29<00:00,  1.49it/s]\n"
     ]
    }
   ],
   "source": [
    "# 生成训练集上的对抗样本\n",
    "train_img = []\n",
    "train_lab = []\n",
    "train_adv = []\n",
    "for i in tqdm(range(550)):\n",
    "    batch_x, batch_y = mnist.train.next_batch(100)\n",
    "    gradient = img_gradient.eval({x: batch_x, y_: batch_y, keep_prob: 1.0})\n",
    "    batch_x_noise = batch_x + 0.02 * np.sign(gradient)\n",
    "    train_img.append(batch_x)\n",
    "    train_lab.append(batch_y)\n",
    "    train_adv.append(batch_x_noise)\n",
    "train_img = np.array(train_img)\n",
    "train_lab = np.array(train_lab)\n",
    "train_adv = np.array(train_adv)\n",
    "np.save('train_img.npy', train_img)\n",
    "np.save('train_lab.npy', train_lab)\n",
    "np.save('train_adv.npy', train_adv)"
   ]
  },
  {
   "cell_type": "markdown",
   "metadata": {},
   "source": [
    "# 测试去噪效果"
   ]
  },
  {
   "cell_type": "code",
   "execution_count": 24,
   "metadata": {},
   "outputs": [],
   "source": [
    "de_x_noise = np.load('test_de.npy')\n",
    "test_lab = np.load('test_lab.npy')"
   ]
  },
  {
   "cell_type": "code",
   "execution_count": 25,
   "metadata": {},
   "outputs": [
    {
     "name": "stdout",
     "output_type": "stream",
     "text": [
      "(100, 100, 784)\n",
      "(100, 100, 10)\n"
     ]
    }
   ],
   "source": [
    "print(de_x_noise.shape)\n",
    "print(test_lab.shape)"
   ]
  },
  {
   "cell_type": "code",
   "execution_count": 26,
   "metadata": {},
   "outputs": [
    {
     "name": "stdout",
     "output_type": "stream",
     "text": [
      "total test accuracy 0.9398\n"
     ]
    }
   ],
   "source": [
    "test_accuracy = 0\n",
    "for i in range(100):\n",
    "    batch_x = de_x_noise[i].reshape(-1, 784)\n",
    "    batch_y = test_lab[i].reshape(-1, 10)\n",
    "    test_accuracy += accuracy.eval(feed_dict={x:batch_x, y_: batch_y, keep_prob: 1.0})\n",
    "#     print(\"Batch %d: test accuracy %g\" % (i + 1, test_accuracy / (i + 1)))\n",
    "print(\"total test accuracy %g\"%(test_accuracy / 100))"
   ]
  },
  {
   "cell_type": "code",
   "execution_count": null,
   "metadata": {},
   "outputs": [],
   "source": []
  }
 ],
 "metadata": {
  "kernelspec": {
   "display_name": "Python [conda env:py35]",
   "language": "python",
   "name": "conda-env-py35-py"
  },
  "language_info": {
   "codemirror_mode": {
    "name": "ipython",
    "version": 3
   },
   "file_extension": ".py",
   "mimetype": "text/x-python",
   "name": "python",
   "nbconvert_exporter": "python",
   "pygments_lexer": "ipython3",
   "version": "3.5.4"
  }
 },
 "nbformat": 4,
 "nbformat_minor": 2
}
